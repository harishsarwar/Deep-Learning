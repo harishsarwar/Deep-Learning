{
 "cells": [
  {
   "cell_type": "code",
   "execution_count": 13,
   "id": "cb611ba3-f366-4adb-98d5-938c677a3ed9",
   "metadata": {},
   "outputs": [],
   "source": [
    "import matplotlib.pyplot as plt\n",
    "import pandas as pd\n",
    "import numpy as np\n",
    "import tensorflow as tf\n",
    "from tensorflow import keras\n",
    "%matplotlib inline"
   ]
  },
  {
   "cell_type": "code",
   "execution_count": 14,
   "id": "655fabeb-94d8-4745-940f-898060698739",
   "metadata": {},
   "outputs": [],
   "source": [
    "# data set loaded from keras\n",
    "(X_train,y_train),(X_test,y_test) = keras.datasets.cifar10.load_data()"
   ]
  },
  {
   "cell_type": "code",
   "execution_count": 15,
   "id": "6cb2fed3-b26c-43a2-90d5-05bedecbeeb6",
   "metadata": {},
   "outputs": [
    {
     "data": {
      "text/plain": [
       "(50000, 32, 32, 3)"
      ]
     },
     "execution_count": 15,
     "metadata": {},
     "output_type": "execute_result"
    }
   ],
   "source": [
    "X_train.shape"
   ]
  },
  {
   "cell_type": "code",
   "execution_count": 16,
   "id": "3180b015-2188-4f18-a029-9b787d3935c4",
   "metadata": {},
   "outputs": [
    {
     "data": {
      "text/plain": [
       "(10000, 32, 32, 3)"
      ]
     },
     "execution_count": 16,
     "metadata": {},
     "output_type": "execute_result"
    }
   ],
   "source": [
    "X_test.shape"
   ]
  },
  {
   "cell_type": "code",
   "execution_count": 17,
   "id": "c21da2c2-0211-4186-a693-1bfec3898c78",
   "metadata": {},
   "outputs": [
    {
     "data": {
      "text/plain": [
       "array([[[ 59,  62,  63],\n",
       "        [ 43,  46,  45],\n",
       "        [ 50,  48,  43],\n",
       "        ...,\n",
       "        [158, 132, 108],\n",
       "        [152, 125, 102],\n",
       "        [148, 124, 103]],\n",
       "\n",
       "       [[ 16,  20,  20],\n",
       "        [  0,   0,   0],\n",
       "        [ 18,   8,   0],\n",
       "        ...,\n",
       "        [123,  88,  55],\n",
       "        [119,  83,  50],\n",
       "        [122,  87,  57]],\n",
       "\n",
       "       [[ 25,  24,  21],\n",
       "        [ 16,   7,   0],\n",
       "        [ 49,  27,   8],\n",
       "        ...,\n",
       "        [118,  84,  50],\n",
       "        [120,  84,  50],\n",
       "        [109,  73,  42]],\n",
       "\n",
       "       ...,\n",
       "\n",
       "       [[208, 170,  96],\n",
       "        [201, 153,  34],\n",
       "        [198, 161,  26],\n",
       "        ...,\n",
       "        [160, 133,  70],\n",
       "        [ 56,  31,   7],\n",
       "        [ 53,  34,  20]],\n",
       "\n",
       "       [[180, 139,  96],\n",
       "        [173, 123,  42],\n",
       "        [186, 144,  30],\n",
       "        ...,\n",
       "        [184, 148,  94],\n",
       "        [ 97,  62,  34],\n",
       "        [ 83,  53,  34]],\n",
       "\n",
       "       [[177, 144, 116],\n",
       "        [168, 129,  94],\n",
       "        [179, 142,  87],\n",
       "        ...,\n",
       "        [216, 184, 140],\n",
       "        [151, 118,  84],\n",
       "        [123,  92,  72]]], dtype=uint8)"
      ]
     },
     "execution_count": 17,
     "metadata": {},
     "output_type": "execute_result"
    }
   ],
   "source": [
    "# 3d array\n",
    "X_train[0]"
   ]
  },
  {
   "cell_type": "code",
   "execution_count": 18,
   "id": "8bfc1c16-4282-433d-840b-6838d2c594a4",
   "metadata": {},
   "outputs": [
    {
     "data": {
      "text/plain": [
       "<matplotlib.image.AxesImage at 0x24370df1f50>"
      ]
     },
     "execution_count": 18,
     "metadata": {},
     "output_type": "execute_result"
    },
    {
     "data": {
      "image/png": "[encoded data removed]",
      "text/plain": [
       "<Figure size 1000x100 with 1 Axes>"
      ]
     },
     "metadata": {},
     "output_type": "display_data"
    }
   ],
   "source": [
    "plt.figure(figsize=(10,1))\n",
    "plt.imshow(X_train[0])  # also ploted by the matshow"
   ]
  },
  {
   "cell_type": "code",
   "execution_count": 19,
   "id": "d7e1eb89-a9e1-4b8f-9edb-c15ca15cdcc8",
   "metadata": {},
   "outputs": [],
   "source": [
    "# image name in data set(class name..)\n",
    "classes = ['airplane','automobile','bird','cat','deer','dag','frog','hourse','ship','truck']"
   ]
  },
  {
   "cell_type": "code",
   "execution_count": 20,
   "id": "ec55647c-0364-495b-8a9a-50a273db83f9",
   "metadata": {},
   "outputs": [
    {
     "data": {
      "text/plain": [
       "array([[6],\n",
       "       [9],\n",
       "       [9],\n",
       "       [4],\n",
       "       [1]], dtype=uint8)"
      ]
     },
     "execution_count": 20,
     "metadata": {},
     "output_type": "execute_result"
    }
   ],
   "source": [
    "#gives 2d array..\n",
    "\n",
    "y_train[:5]  "
   ]
  },
  {
   "cell_type": "code",
   "execution_count": 21,
   "id": "d9af7fee-816b-43ca-8cbb-3198c17e1722",
   "metadata": {},
   "outputs": [
    {
     "data": {
      "text/plain": [
       "array([6, 9, 9], dtype=uint8)"
      ]
     },
     "execution_count": 21,
     "metadata": {},
     "output_type": "execute_result"
    }
   ],
   "source": [
    "# coverting 2d into 1d.. of y_train\n",
    "y_train = y_train.reshape(-1,)  # reshaping\n",
    "\n",
    "y_train[:3]"
   ]
  },
  {
   "cell_type": "code",
   "execution_count": 22,
   "id": "420c8251-e9b9-4d1c-bf0b-06a9fbf27e72",
   "metadata": {},
   "outputs": [],
   "source": [
    "def plot_shample(X , y , index):\n",
    "    plt.figure(figsize=(15,2))\n",
    "    plt.imshow(X[index])\n",
    "    plt.xlabel(classes[y[index]])    "
   ]
  },
  {
   "cell_type": "code",
   "execution_count": 83,
   "id": "763a1320-d7ac-48e1-99d3-50f4ba528252",
   "metadata": {},
   "outputs": [
    {
     "data": {
      "image/png": "[encoded data removed]",
      "text/plain": [
       "<Figure size 1500x200 with 1 Axes>"
      ]
     },
     "metadata": {},
     "output_type": "display_data"
    }
   ],
   "source": [
    "plot_shample(X_train, y_train, 1)"
   ]
  },
  {
   "cell_type": "code",
   "execution_count": 84,
   "id": "2d77e0b1-b9bd-4f20-9b43-c7b13380601a",
   "metadata": {},
   "outputs": [
    {
     "data": {
      "text/plain": [
       "(10000, 32, 32, 3)"
      ]
     },
     "execution_count": 84,
     "metadata": {},
     "output_type": "execute_result"
    }
   ],
   "source": []
  },
  {
   "cell_type": "code",
   "execution_count": 24,
   "id": "c2d6fbfd-b821-4a7e-9d88-c054195e1e14",
   "metadata": {},
   "outputs": [],
   "source": [
    "# Normalizing out data : figures pixel are in the form of rgb range(255) normalizing is a way to convert it into the rang of (0-1),,\n",
    "\n",
    "X_train[0] # we see rgb pixel rang(255)\n",
    "\n",
    "# normalizing and its gives much batter accuracy than the rgb form..\n",
    "\n",
    "X_train = X_train /255\n",
    "X_test = X_test/255"
   ]
  },
  {
   "cell_type": "code",
   "execution_count": 25,
   "id": "f6aa4f32-ac1c-409f-9bb4-036e741c1725",
   "metadata": {},
   "outputs": [],
   "source": [
    "# First creats a simple (ANN) for checking the performance of model "
   ]
  },
  {
   "cell_type": "code",
   "execution_count": 61,
   "id": "0cdb63a9-b24e-45f3-a25a-57324d2321fe",
   "metadata": {},
   "outputs": [
    {
     "data": {
      "text/plain": [
       "(50000, 32, 32, 3)"
      ]
     },
     "execution_count": 61,
     "metadata": {},
     "output_type": "execute_result"
    }
   ],
   "source": [
    "X_train.shape"
   ]
  },
  {
   "cell_type": "markdown",
   "id": "a60e4380-9a9b-49d5-a750-e298b6a2d199",
   "metadata": {},
   "source": [
    "# ANN"
   ]
  },
  {
   "cell_type": "code",
   "execution_count": 29,
   "id": "9261f29a-7059-4da7-83ae-c1509dc95c41",
   "metadata": {},
   "outputs": [
    {
     "name": "stdout",
     "output_type": "stream",
     "text": [
      "Epoch 1/5\n",
      "\u001b[1m1563/1563\u001b[0m \u001b[32m━━━━━━━━━━━━━━━━━━━━\u001b[0m\u001b[37m\u001b[0m \u001b[1m100s\u001b[0m 63ms/step - accuracy: 0.2734 - loss: 2.2348\n",
      "Epoch 2/5\n",
      "\u001b[1m1563/1563\u001b[0m \u001b[32m━━━━━━━━━━━━━━━━━━━━\u001b[0m\u001b[37m\u001b[0m \u001b[1m131s\u001b[0m 84ms/step - accuracy: 0.3980 - loss: 1.6732\n",
      "Epoch 3/5\n",
      "\u001b[1m1563/1563\u001b[0m \u001b[32m━━━━━━━━━━━━━━━━━━━━\u001b[0m\u001b[37m\u001b[0m \u001b[1m133s\u001b[0m 85ms/step - accuracy: 0.4324 - loss: 1.5919\n",
      "Epoch 4/5\n",
      "\u001b[1m1563/1563\u001b[0m \u001b[32m━━━━━━━━━━━━━━━━━━━━\u001b[0m\u001b[37m\u001b[0m \u001b[1m134s\u001b[0m 86ms/step - accuracy: 0.4507 - loss: 1.5330\n",
      "Epoch 5/5\n",
      "\u001b[1m1563/1563\u001b[0m \u001b[32m━━━━━━━━━━━━━━━━━━━━\u001b[0m\u001b[37m\u001b[0m \u001b[1m132s\u001b[0m 84ms/step - accuracy: 0.4589 - loss: 1.5021\n"
     ]
    },
    {
     "data": {
      "text/plain": [
       "<keras.src.callbacks.history.History at 0x2437a103910>"
      ]
     },
     "execution_count": 29,
     "metadata": {},
     "output_type": "execute_result"
    }
   ],
   "source": [
    "# Lets check ANN model for the computer vision check ANN gives accuracy or not..\n",
    "\n",
    "model= keras.Sequential([  \n",
    "    keras.layers.Flatten(input_shape = (32,32,3)), # flattend used for the convert 2 3d in to 1d bcz . ann input takes 1d array..\n",
    "    keras.layers.Dense(3000, activation='relu'),\n",
    "    keras.layers.Dense(1000,activation = 'relu'),\n",
    "    keras.layers.Dense(10, activation='sigmoid')\n",
    "    \n",
    "])\n",
    "model.compile(\n",
    "    optimizer='adam',\n",
    "    loss = 'sparse_categorical_crossentropy',\n",
    "    metrics=['accuracy']\n",
    ")\n",
    "model.fit(X_train,y_train, epochs=5)"
   ]
  },
  {
   "cell_type": "code",
   "execution_count": 30,
   "id": "c3e54a6e-23db-4a50-8163-9ff3c5b8b676",
   "metadata": {},
   "outputs": [
    {
     "name": "stdout",
     "output_type": "stream",
     "text": [
      "\u001b[1m313/313\u001b[0m \u001b[32m━━━━━━━━━━━━━━━━━━━━\u001b[0m\u001b[37m\u001b[0m \u001b[1m2s\u001b[0m 6ms/step - accuracy: 0.4459 - loss: 1.5339\n"
     ]
    },
    {
     "data": {
      "text/plain": [
       "[1.544202446937561, 0.4424000084400177]"
      ]
     },
     "execution_count": 30,
     "metadata": {},
     "output_type": "execute_result"
    }
   ],
   "source": [
    "# see ANN model performing very bad for this data set. for computer vision(image detection, and show on conputer vision problems) \n",
    "\n",
    "model.evaluate(X_test,y_test)"
   ]
  },
  {
   "cell_type": "code",
   "execution_count": 41,
   "id": "67353254-8d1c-461a-813f-8dcee5d225e9",
   "metadata": {},
   "outputs": [
    {
     "name": "stdout",
     "output_type": "stream",
     "text": [
      "\u001b[1m313/313\u001b[0m \u001b[32m━━━━━━━━━━━━━━━━━━━━\u001b[0m\u001b[37m\u001b[0m \u001b[1m2s\u001b[0m 6ms/step\n"
     ]
    }
   ],
   "source": [
    "prediction = model.predict(X_test)"
   ]
  },
  {
   "cell_type": "code",
   "execution_count": 42,
   "id": "eefb5a95-bc23-4e60-95c9-6a43d2dd7d4e",
   "metadata": {},
   "outputs": [
    {
     "data": {
      "text/plain": [
       "array([[0.49856612, 0.28391424, 0.44457176, 0.7792539 , 0.40498447,\n",
       "        0.8077071 , 0.6768669 , 0.10326891, 0.14558688, 0.15539728],\n",
       "       [0.6400337 , 0.9749647 , 0.14028418, 0.06848335, 0.02004396,\n",
       "        0.02732123, 0.01052574, 0.04334209, 0.8941133 , 0.9800097 ],\n",
       "       [0.7847055 , 0.90711343, 0.15069127, 0.1264681 , 0.06671078,\n",
       "        0.0743792 , 0.00559863, 0.11558841, 0.9302058 , 0.9060614 ]],\n",
       "      dtype=float32)"
      ]
     },
     "execution_count": 42,
     "metadata": {},
     "output_type": "execute_result"
    }
   ],
   "source": [
    "prediction[:3]"
   ]
  },
  {
   "cell_type": "code",
   "execution_count": 55,
   "id": "80b1b0ec-c35a-4860-9b0f-8ad9c3630051",
   "metadata": {},
   "outputs": [],
   "source": [
    "# prediction data available in flote number.\n",
    "Ann = []\n",
    "for no in prediction:\n",
    "    Ann.append(np.argmax(no)) # converting 2d into 1d and also flot to intezer number\n"
   ]
  },
  {
   "cell_type": "code",
   "execution_count": 56,
   "id": "9127f730-5a26-41d9-a145-dd6aadf9e1c5",
   "metadata": {},
   "outputs": [
    {
     "data": {
      "text/plain": [
       "[5, 9, 8, 9, 4, 6, 5, 6, 3, 1]"
      ]
     },
     "execution_count": 56,
     "metadata": {},
     "output_type": "execute_result"
    }
   ],
   "source": [
    "Ann[:10]\n"
   ]
  },
  {
   "cell_type": "code",
   "execution_count": 57,
   "id": "5f27f7c0-736f-4442-9113-7266e9a97a5c",
   "metadata": {},
   "outputs": [
    {
     "data": {
      "text/plain": [
       "array([[3],\n",
       "       [8],\n",
       "       [8],\n",
       "       [0],\n",
       "       [6],\n",
       "       [6],\n",
       "       [1],\n",
       "       [6],\n",
       "       [3],\n",
       "       [1]], dtype=uint8)"
      ]
     },
     "execution_count": 57,
     "metadata": {},
     "output_type": "execute_result"
    }
   ],
   "source": [
    "y_test[:10]"
   ]
  },
  {
   "cell_type": "code",
   "execution_count": 58,
   "id": "37f0ce7e-e8d2-4952-9e26-f90b2a329595",
   "metadata": {},
   "outputs": [],
   "source": [
    "from sklearn.metrics import classification_report, confusion_matrix"
   ]
  },
  {
   "cell_type": "code",
   "execution_count": 59,
   "id": "ad81e0f0-1cec-4504-a950-df7c79f1b36b",
   "metadata": {},
   "outputs": [
    {
     "name": "stdout",
     "output_type": "stream",
     "text": [
      "              precision    recall  f1-score   support\n",
      "\n",
      "           0       0.65      0.41      0.50      1000\n",
      "           1       0.61      0.49      0.54      1000\n",
      "           2       0.42      0.17      0.24      1000\n",
      "           3       0.28      0.33      0.30      1000\n",
      "           4       0.51      0.23      0.32      1000\n",
      "           5       0.41      0.36      0.38      1000\n",
      "           6       0.42      0.66      0.51      1000\n",
      "           7       0.43      0.59      0.50      1000\n",
      "           8       0.69      0.47      0.56      1000\n",
      "           9       0.36      0.71      0.47      1000\n",
      "\n",
      "    accuracy                           0.44     10000\n",
      "   macro avg       0.48      0.44      0.43     10000\n",
      "weighted avg       0.48      0.44      0.43     10000\n",
      "\n"
     ]
    }
   ],
   "source": [
    "print(classification_report(y_test,Ann))"
   ]
  },
  {
   "cell_type": "code",
   "execution_count": 60,
   "id": "4a311925-31c2-482c-96ec-62aa22015e09",
   "metadata": {},
   "outputs": [],
   "source": [
    "# Ann not gives good accuracy in computer vesion problems here CNN came under the knowledge.\n"
   ]
  },
  {
   "cell_type": "markdown",
   "id": "551abf30-786d-4686-a28b-51415417c62e",
   "metadata": {},
   "source": [
    "# CNN "
   ]
  },
  {
   "cell_type": "code",
   "execution_count": 62,
   "id": "a7498198-3eb7-4cae-b9b1-e5eba7d10b46",
   "metadata": {},
   "outputs": [],
   "source": [
    "# CNN increased the accuracy for the computer vision problems...."
   ]
  },
  {
   "cell_type": "code",
   "execution_count": 71,
   "id": "7613da7d-4843-4569-b17b-cb5f0d6563e7",
   "metadata": {},
   "outputs": [],
   "source": [
    "CNN = keras.Sequential([ \n",
    "    \n",
    "    # CNN layers.(this will be our dense network..)\n",
    "    \n",
    "        #1st layer\n",
    "    keras.layers.Conv2D(filters=32,# randomely choose filter here cnn detect 32 filter and features for image..\n",
    "                        kernel_size=(3,3), # this is actual filter size.\n",
    "                        activation='relu',\n",
    "                        input_shape = (32,32,3)# shape of X_train data..auto cnn flattend the shape.\n",
    "                       ),\n",
    "    keras.layers.MaxPooling2D((2,2)),# pooling used for reduce the size and overfitting of image pixel and gives accuracy to the model..\n",
    "    # 2nd layer\n",
    "    keras.layers.Conv2D(filters=32,kernel_size=(3,3), activation='relu',input_shape = (32,32,3)),\n",
    "    keras.layers.MaxPooling2D((2,2)),\n",
    "\n",
    "    # Dense.\n",
    "    \n",
    "    keras.layers.Flatten(), # no need for input_shape in ANN.CNN configure it out outomatically..\n",
    "    \n",
    "    keras.layers.Dense(64,activation = 'relu'),# NO need for so many deep neural netword cnn work well with 1 hidden layers..\n",
    "    \n",
    "    keras.layers.Dense(10, activation='softmax')  # softmax is same as(sigmoid).softmax outomatically normalized data and gives more accuracy than(sigmoid)\n",
    "    ])\n",
    "u"
   ]
  },
  {
   "cell_type": "code",
   "execution_count": 74,
   "id": "db2dc1e0-494a-4ddd-bdc7-f32e7fe03348",
   "metadata": {},
   "outputs": [
    {
     "name": "stdout",
     "output_type": "stream",
     "text": [
      "Epoch 1/5\n",
      "\u001b[1m1563/1563\u001b[0m \u001b[32m━━━━━━━━━━━━━━━━━━━━\u001b[0m\u001b[37m\u001b[0m \u001b[1m11s\u001b[0m 6ms/step - accuracy: 0.3838 - loss: 1.6969\n",
      "Epoch 2/5\n",
      "\u001b[1m1563/1563\u001b[0m \u001b[32m━━━━━━━━━━━━━━━━━━━━\u001b[0m\u001b[37m\u001b[0m \u001b[1m12s\u001b[0m 8ms/step - accuracy: 0.5811 - loss: 1.1817\n",
      "Epoch 3/5\n",
      "\u001b[1m1563/1563\u001b[0m \u001b[32m━━━━━━━━━━━━━━━━━━━━\u001b[0m\u001b[37m\u001b[0m \u001b[1m16s\u001b[0m 10ms/step - accuracy: 0.6403 - loss: 1.0238\n",
      "Epoch 4/5\n",
      "\u001b[1m1563/1563\u001b[0m \u001b[32m━━━━━━━━━━━━━━━━━━━━\u001b[0m\u001b[37m\u001b[0m \u001b[1m17s\u001b[0m 11ms/step - accuracy: 0.6724 - loss: 0.9407\n",
      "Epoch 5/5\n",
      "\u001b[1m1563/1563\u001b[0m \u001b[32m━━━━━━━━━━━━━━━━━━━━\u001b[0m\u001b[37m\u001b[0m \u001b[1m17s\u001b[0m 11ms/step - accuracy: 0.6949 - loss: 0.8718\n"
     ]
    },
    {
     "data": {
      "text/plain": [
       "<keras.src.callbacks.history.History at 0x243b24a9290>"
      ]
     },
     "execution_count": 74,
     "metadata": {},
     "output_type": "execute_result"
    }
   ],
   "source": [
    "CNN.compile(\n",
    "    optimizer='adam',\n",
    "    loss='sparse_categorical_crossentropy',\n",
    "    metrics=['accuracy']\n",
    ")\n",
    "CNN.fit(X_train,y_train, epochs=5)"
   ]
  },
  {
   "cell_type": "code",
   "execution_count": 75,
   "id": "f98505e2-448d-4969-88cc-4871cf11e0c3",
   "metadata": {},
   "outputs": [
    {
     "name": "stdout",
     "output_type": "stream",
     "text": [
      "\u001b[1m313/313\u001b[0m \u001b[32m━━━━━━━━━━━━━━━━━━━━\u001b[0m\u001b[37m\u001b[0m \u001b[1m3s\u001b[0m 7ms/step - accuracy: 0.6644 - loss: 0.9715\n"
     ]
    },
    {
     "data": {
      "text/plain": [
       "[0.9810150265693665, 0.6604999899864197]"
      ]
     },
     "execution_count": 75,
     "metadata": {},
     "output_type": "execute_result"
    }
   ],
   "source": [
    "# now look at here and compare the accuracy with ANN and CNN. we noticed here CNN gives better accuracy than ANN\n",
    "CNN.evaluate(X_test,y_test)"
   ]
  },
  {
   "cell_type": "code",
   "execution_count": 78,
   "id": "554bc354-a8c4-4785-a165-07ab76805225",
   "metadata": {},
   "outputs": [
    {
     "name": "stdout",
     "output_type": "stream",
     "text": [
      "\u001b[1m313/313\u001b[0m \u001b[32m━━━━━━━━━━━━━━━━━━━━\u001b[0m\u001b[37m\u001b[0m \u001b[1m2s\u001b[0m 6ms/step\n"
     ]
    },
    {
     "data": {
      "text/plain": [
       "array([[2.7199683e-03, 1.6330823e-03, 2.1784267e-01, 7.1928513e-01,\n",
       "        2.8014772e-03, 4.6886787e-02, 4.6958034e-03, 4.4471762e-04,\n",
       "        2.1447577e-03, 1.5457334e-03],\n",
       "       [4.9084937e-03, 2.3669874e-02, 1.2598567e-04, 3.0070547e-05,\n",
       "        2.8465009e-05, 7.1157262e-07, 2.6041103e-06, 1.4387589e-06,\n",
       "        9.6744722e-01, 3.7851252e-03],\n",
       "       [8.2166776e-02, 1.4224510e-01, 1.7341048e-02, 2.5792982e-02,\n",
       "        6.1867833e-03, 4.1375291e-03, 2.4856175e-03, 6.2674708e-03,\n",
       "        2.2631778e-01, 4.8705888e-01],\n",
       "       [6.0617244e-01, 4.4134017e-02, 7.0432805e-02, 1.5772637e-02,\n",
       "        1.8062735e-02, 2.7474572e-04, 3.9115115e-03, 6.7626988e-04,\n",
       "        2.3936602e-01, 1.1968741e-03]], dtype=float32)"
      ]
     },
     "execution_count": 78,
     "metadata": {},
     "output_type": "execute_result"
    }
   ],
   "source": [
    "Cnn_prediction = CNN.predict(X_test)\n",
    "Cnn_prediction[:4]\n",
    "# it returns data data into the form of flots. "
   ]
  },
  {
   "cell_type": "code",
   "execution_count": 79,
   "id": "5b6dcc44-6319-42fb-9693-5ac1caf84bf7",
   "metadata": {},
   "outputs": [],
   "source": [
    "# comverted them into the intezer with numpy and count the max number using numpy(argmax_fuction)..\n",
    "CNN_prediction = []\n",
    "for no in Cnn_prediction:\n",
    "    CNN_prediction.append(np.argmax(no))"
   ]
  },
  {
   "cell_type": "code",
   "execution_count": 80,
   "id": "2d9f38d9-69f4-44b8-b7d8-5e3086ebbcde",
   "metadata": {},
   "outputs": [
    {
     "data": {
      "text/plain": [
       "[3, 8, 9, 0, 4]"
      ]
     },
     "execution_count": 80,
     "metadata": {},
     "output_type": "execute_result"
    }
   ],
   "source": [
    "CNN_prediction[:5]"
   ]
  },
  {
   "cell_type": "code",
   "execution_count": 82,
   "id": "1573d7b0-6299-4aec-a0f4-ce4417344b22",
   "metadata": {},
   "outputs": [],
   "source": [
    "# see the comaprision of the prediction of real data(y_test matches must of the time).."
   ]
  },
  {
   "cell_type": "code",
   "execution_count": 90,
   "id": "e7c26394-b91d-4b2a-a74a-41fb8cc42d32",
   "metadata": {},
   "outputs": [
    {
     "data": {
      "text/plain": [
       "array([3, 8, 8, 0, 6], dtype=uint8)"
      ]
     },
     "execution_count": 90,
     "metadata": {},
     "output_type": "execute_result"
    }
   ],
   "source": [
    "# converting 2d data into 1d\n",
    "y_test = y_test.reshape(-1) \n",
    "y_test[:5]"
   ]
  },
  {
   "cell_type": "code",
   "execution_count": 104,
   "id": "ee14fbf9-097d-4697-a4f3-788b55636847",
   "metadata": {},
   "outputs": [
    {
     "data": {
      "image/png": "[encoded data removed]",
      "text/plain": [
       "<Figure size 1500x200 with 1 Axes>"
      ]
     },
     "metadata": {},
     "output_type": "display_data"
    }
   ],
   "source": [
    "# real data figure\n",
    "\n",
    "plot_shample(X_test,y_test,0)"
   ]
  },
  {
   "cell_type": "code",
   "execution_count": 103,
   "id": "44cf6bc4-0a28-4613-8297-7294263e869f",
   "metadata": {},
   "outputs": [
    {
     "data": {
      "text/plain": [
       "'cat'"
      ]
     },
     "execution_count": 103,
     "metadata": {},
     "output_type": "execute_result"
    }
   ],
   "source": [
    "# compare with predicton with precticall\n",
    "classes[CNN_prediction[0]]"
   ]
  },
  {
   "cell_type": "code",
   "execution_count": 94,
   "id": "c6c5bf4d-a0a0-4d0a-8727-cc5f898d68a0",
   "metadata": {},
   "outputs": [
    {
     "data": {
      "text/plain": [
       "['airplane',\n",
       " 'automobile',\n",
       " 'bird',\n",
       " 'cat',\n",
       " 'deer',\n",
       " 'dag',\n",
       " 'frog',\n",
       " 'hourse',\n",
       " 'ship',\n",
       " 'truck']"
      ]
     },
     "execution_count": 94,
     "metadata": {},
     "output_type": "execute_result"
    }
   ],
   "source": [
    "# name of classes which available inthe data set..\n",
    "classes"
   ]
  },
  {
   "cell_type": "code",
   "execution_count": 105,
   "id": "910ca6d5-bf75-4595-b99c-bfadf68c8f04",
   "metadata": {},
   "outputs": [],
   "source": [
    "from sklearn.metrics import classification_report"
   ]
  },
  {
   "cell_type": "code",
   "execution_count": 106,
   "id": "96f9774e-53b9-4d42-be32-1adad9287265",
   "metadata": {},
   "outputs": [
    {
     "name": "stdout",
     "output_type": "stream",
     "text": [
      "              precision    recall  f1-score   support\n",
      "\n",
      "           0       0.75      0.68      0.71      1000\n",
      "           1       0.81      0.76      0.78      1000\n",
      "           2       0.47      0.59      0.52      1000\n",
      "           3       0.47      0.55      0.50      1000\n",
      "           4       0.62      0.61      0.62      1000\n",
      "           5       0.60      0.47      0.53      1000\n",
      "           6       0.81      0.69      0.74      1000\n",
      "           7       0.69      0.72      0.71      1000\n",
      "           8       0.85      0.71      0.78      1000\n",
      "           9       0.67      0.83      0.74      1000\n",
      "\n",
      "    accuracy                           0.66     10000\n",
      "   macro avg       0.67      0.66      0.66     10000\n",
      "weighted avg       0.67      0.66      0.66     10000\n",
      "\n"
     ]
    }
   ],
   "source": [
    "# all set now we can see the accuracy of the model here the accuracy of cnn model increases than ann model\n",
    "print(classification_report(y_test,CNN_prediction))"
   ]
  },
  {
   "cell_type": "code",
   "execution_count": null,
   "id": "e48812f5-f991-4fc1-a36d-20701150e75c",
   "metadata": {},
   "outputs": [],
   "source": []
  }
 ],
 "metadata": {
  "kernelspec": {
   "display_name": "Python 3 (ipykernel)",
   "language": "python",
   "name": "python3"
  },
  "language_info": {
   "codemirror_mode": {
    "name": "ipython",
    "version": 3
   },
   "file_extension": ".py",
   "mimetype": "text/x-python",
   "name": "python",
   "nbconvert_exporter": "python",
   "pygments_lexer": "ipython3",
   "version": "3.12.4"
  }
 },
 "nbformat": 4,
 "nbformat_minor": 5
}
