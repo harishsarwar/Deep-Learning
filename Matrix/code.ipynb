{
 "cells": [
  {
   "cell_type": "code",
   "execution_count": 405,
   "id": "a3a5c2b3-2928-4135-9fee-e9092400e4d2",
   "metadata": {},
   "outputs": [],
   "source": [
    "import numpy as np"
   ]
  },
  {
   "cell_type": "code",
   "execution_count": 433,
   "id": "4e9ce501-9147-4b56-aad6-5e216201fe9b",
   "metadata": {},
   "outputs": [],
   "source": [
    "revenue = np.array([[180,200,220],[24,36,40],[12,18,20]])\n",
    "expenses = np.array([[80,90,100],[10,16,20],[8,10,10]])"
   ]
  },
  {
   "cell_type": "code",
   "execution_count": 434,
   "id": "03eceb62-03c2-443e-bace-23a6a8d6ee5f",
   "metadata": {},
   "outputs": [
    {
     "data": {
      "text/plain": [
       "array([[180, 200, 220],\n",
       "       [ 24,  36,  40],\n",
       "       [ 12,  18,  20]])"
      ]
     },
     "execution_count": 434,
     "metadata": {},
     "output_type": "execute_result"
    }
   ],
   "source": [
    "revenue"
   ]
  },
  {
   "cell_type": "code",
   "execution_count": 417,
   "id": "4bb91aa4-9b90-4471-afbd-6bf8fd471714",
   "metadata": {},
   "outputs": [],
   "source": [
    "profit = revenue - expenses"
   ]
  },
  {
   "cell_type": "code",
   "execution_count": 418,
   "id": "3f532f8c-c533-4869-8d08-5b410207cc25",
   "metadata": {},
   "outputs": [
    {
     "data": {
      "text/plain": [
       "array([[100, 110, 120],\n",
       "       [ 14,  20,  20],\n",
       "       [  4,   8,  10]])"
      ]
     },
     "execution_count": 418,
     "metadata": {},
     "output_type": "execute_result"
    }
   ],
   "source": [
    "profit"
   ]
  },
  {
   "cell_type": "code",
   "execution_count": 429,
   "id": "41f9e04e-8e70-49f8-bbcb-bd6f22645cca",
   "metadata": {},
   "outputs": [
    {
     "data": {
      "text/plain": [
       "array([ 93600, 108400, 120000])"
      ]
     },
     "execution_count": 429,
     "metadata": {},
     "output_type": "execute_result"
    }
   ],
   "source": [
    "# matrix multiplication\n",
    "\n",
    "\n",
    "unit_price = np.array([1000,400,1200])\n",
    "unit_sale = np.array([[80,90,100],[10,16,20],[8,10,10]])\n",
    "\n",
    "\n",
    "\n",
    "np.dot(unit_price, unit_sale)"
   ]
  },
  {
   "cell_type": "code",
   "execution_count": 431,
   "id": "8537fbb1-fd1e-4041-8ac2-b834bc226934",
   "metadata": {},
   "outputs": [
    {
     "data": {
      "text/plain": [
       "array([[ 80000,  36000, 120000],\n",
       "       [ 10000,   6400,  24000],\n",
       "       [  8000,   4000,  12000]])"
      ]
     },
     "execution_count": 431,
     "metadata": {},
     "output_type": "execute_result"
    }
   ],
   "source": [
    "# when we multipllly directelly it gives the ans in the form of matrix\n",
    "\n",
    "total_sale = unit_price*unit_sale\n",
    "total_sale   \n",
    "# see the ans it is 2d matrix and we want the dot product so we apply the dot product funtion from the numpyv"
   ]
  },
  {
   "cell_type": "code",
   "execution_count": null,
   "id": "39f5b147-89b8-42a2-b51c-292f9fc3c107",
   "metadata": {},
   "outputs": [],
   "source": []
  },
  {
   "cell_type": "code",
   "execution_count": 432,
   "id": "1e72dd26-5b16-4c59-bbbb-a22d24dd7720",
   "metadata": {},
   "outputs": [],
   "source": [
    "# exercise by code basicss....."
   ]
  },
  {
   "cell_type": "code",
   "execution_count": 440,
   "id": "e30e253c-f07d-4aae-b229-1dda1cd15f8b",
   "metadata": {},
   "outputs": [
    {
     "data": {
      "text/plain": [
       "array([[15000, 15000, 18750],\n",
       "       [ 5100,  5925,  7875],\n",
       "       [ 8250, 10500, 13500],\n",
       "       [ 6000,  6375,  6750]])"
      ]
     },
     "execution_count": 440,
     "metadata": {},
     "output_type": "execute_result"
    }
   ],
   "source": [
    "# 1. revenue of the company represented inthe form of USD and have to convert all rows and column with in INR\n",
    "\n",
    "company_revenue = np.array([[200,200,250],[68,79,105],[110,140,180],[80,85,90]])\n",
    "INR = 75\n",
    "\n",
    "revenue_INR = company_revenue* INR\n",
    "revenue_INR"
   ]
  },
  {
   "cell_type": "code",
   "execution_count": 438,
   "id": "a13a11ea-7360-4daf-9714-9dd3dd6fb475",
   "metadata": {},
   "outputs": [
    {
     "data": {
      "text/plain": [
       "array([180])"
      ]
     },
     "execution_count": 438,
     "metadata": {},
     "output_type": "execute_result"
    }
   ],
   "source": []
  },
  {
   "cell_type": "code",
   "execution_count": 441,
   "id": "a87243cf-706e-4c84-a9cf-b0a260ad592c",
   "metadata": {},
   "outputs": [],
   "source": [
    "# 2..finding the total sum of given matrix "
   ]
  },
  {
   "cell_type": "code",
   "execution_count": 444,
   "id": "17d98d72-734c-4c38-b7fa-c261cb27e1df",
   "metadata": {},
   "outputs": [
    {
     "data": {
      "text/plain": [
       "array([1900, 2640, 1430])"
      ]
     },
     "execution_count": 444,
     "metadata": {},
     "output_type": "execute_result"
    }
   ],
   "source": [
    "price_per_unit = np.array([20,30,15])\n",
    "unit_sold = np.array([[50,60,25],[10,13,5],[40,70,52]])\n",
    "\n",
    "np.dot(price_per_unit,unit_sold)"
   ]
  },
  {
   "cell_type": "code",
   "execution_count": null,
   "id": "c3261201-80d8-4740-86f6-6234a2a9d0bf",
   "metadata": {},
   "outputs": [],
   "source": []
  }
 ],
 "metadata": {
  "kernelspec": {
   "display_name": "Python 3 (ipykernel)",
   "language": "python",
   "name": "python3"
  },
  "language_info": {
   "codemirror_mode": {
    "name": "ipython",
    "version": 3
   },
   "file_extension": ".py",
   "mimetype": "text/x-python",
   "name": "python",
   "nbconvert_exporter": "python",
   "pygments_lexer": "ipython3",
   "version": "3.12.4"
  }
 },
 "nbformat": 4,
 "nbformat_minor": 5
}
