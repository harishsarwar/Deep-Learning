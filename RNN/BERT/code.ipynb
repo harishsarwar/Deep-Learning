{
 "cells": [
  {
   "cell_type": "code",
   "execution_count": 4,
   "id": "a23d8b44-9cf2-4d1f-9565-ca3e08a5db74",
   "metadata": {},
   "outputs": [],
   "source": [
    "import tensorflow_hub as hub\n",
    "import tensorflow_text as text"
   ]
  },
  {
   "cell_type": "code",
   "execution_count": 5,
   "id": "e400fc74-ee59-4209-8019-39a2f1801d23",
   "metadata": {},
   "outputs": [],
   "source": [
    "preprocess_url = \"https://tfhub.dev/tensorflow/bert_en_uncased_preprocess/3\" # bert preprocess model url\n",
    "encoder_url = \"https://tfhub.dev/tensorflow/bert_en_uncased_L-12_H-768_A-12/4\" # encoding url of bert"
   ]
  },
  {
   "cell_type": "code",
   "execution_count": 11,
   "id": "65bfa4f7-e600-4b77-9fd7-b401f8c94f32",
   "metadata": {},
   "outputs": [],
   "source": [
    "#making hub layer and pass url of preprocess model(BERT)#\n",
    "bert_preprocess_model = hub.KerasLayer(preprocess_url)"
   ]
  },
  {
   "cell_type": "code",
   "execution_count": 16,
   "id": "85742573-b108-46fc-b91d-8a4d989a38b6",
   "metadata": {},
   "outputs": [
    {
     "data": {
      "text/plain": [
       "dict_keys(['input_mask', 'input_word_ids', 'input_type_ids'])"
      ]
     },
     "execution_count": 16,
     "metadata": {},
     "output_type": "execute_result"
    }
   ],
   "source": [
    "text_test = ['nice movie indeed','i love python programing']#statment for the preprocess#\n",
    "text_preprocessed = bert_preprocess_model(text_test)#pass the statment in preprocessed function #\n",
    "text_preprocessed.keys()"
   ]
  },
  {
   "cell_type": "code",
   "execution_count": 17,
   "id": "5c08e9df-c5d1-4dab-8072-901daee08368",
   "metadata": {},
   "outputs": [
    {
     "data": {
      "text/plain": [
       "<tf.Tensor: shape=(2, 128), dtype=int32, numpy=\n",
       "array([[1, 1, 1, 1, 1, 0, 0, 0, 0, 0, 0, 0, 0, 0, 0, 0, 0, 0, 0, 0, 0, 0,\n",
       "        0, 0, 0, 0, 0, 0, 0, 0, 0, 0, 0, 0, 0, 0, 0, 0, 0, 0, 0, 0, 0, 0,\n",
       "        0, 0, 0, 0, 0, 0, 0, 0, 0, 0, 0, 0, 0, 0, 0, 0, 0, 0, 0, 0, 0, 0,\n",
       "        0, 0, 0, 0, 0, 0, 0, 0, 0, 0, 0, 0, 0, 0, 0, 0, 0, 0, 0, 0, 0, 0,\n",
       "        0, 0, 0, 0, 0, 0, 0, 0, 0, 0, 0, 0, 0, 0, 0, 0, 0, 0, 0, 0, 0, 0,\n",
       "        0, 0, 0, 0, 0, 0, 0, 0, 0, 0, 0, 0, 0, 0, 0, 0, 0, 0],\n",
       "       [1, 1, 1, 1, 1, 1, 1, 0, 0, 0, 0, 0, 0, 0, 0, 0, 0, 0, 0, 0, 0, 0,\n",
       "        0, 0, 0, 0, 0, 0, 0, 0, 0, 0, 0, 0, 0, 0, 0, 0, 0, 0, 0, 0, 0, 0,\n",
       "        0, 0, 0, 0, 0, 0, 0, 0, 0, 0, 0, 0, 0, 0, 0, 0, 0, 0, 0, 0, 0, 0,\n",
       "        0, 0, 0, 0, 0, 0, 0, 0, 0, 0, 0, 0, 0, 0, 0, 0, 0, 0, 0, 0, 0, 0,\n",
       "        0, 0, 0, 0, 0, 0, 0, 0, 0, 0, 0, 0, 0, 0, 0, 0, 0, 0, 0, 0, 0, 0,\n",
       "        0, 0, 0, 0, 0, 0, 0, 0, 0, 0, 0, 0, 0, 0, 0, 0, 0, 0]])>"
      ]
     },
     "execution_count": 17,
     "metadata": {},
     "output_type": "execute_result"
    }
   ],
   "source": [
    "text_preprocessed['input_mask']"
   ]
  },
  {
   "cell_type": "code",
   "execution_count": 18,
   "id": "8c4c8df3-c83c-4d96-88e1-df4d7271716b",
   "metadata": {},
   "outputs": [
    {
     "data": {
      "text/plain": [
       "dict_keys(['sequence_output', 'encoder_outputs', 'default', 'pooled_output'])"
      ]
     },
     "execution_count": 18,
     "metadata": {},
     "output_type": "execute_result"
    }
   ],
   "source": [
    "bert_model = hub.KerasLayer(encoder_url)\n",
    "bert_result = bert_model(text_preprocessed)\n",
    "bert_result.keys()"
   ]
  },
  {
   "cell_type": "code",
   "execution_count": 19,
   "id": "3748132a-891f-4415-81be-6c856cdbf651",
   "metadata": {},
   "outputs": [
    {
     "data": {
      "text/plain": [
       "<tf.Tensor: shape=(2, 768), dtype=float32, numpy=\n",
       "array([[-0.7917741 , -0.21411933,  0.49769458, ...,  0.2446516 ,\n",
       "        -0.47334474,  0.8175871 ],\n",
       "       [-0.8998869 , -0.5022243 , -0.8014913 , ..., -0.60264313,\n",
       "        -0.69911593,  0.90730995]], dtype=float32)>"
      ]
     },
     "execution_count": 19,
     "metadata": {},
     "output_type": "execute_result"
    }
   ],
   "source": [
    "#embedding result#\n",
    "bert_result['pooled_output']"
   ]
  },
  {
   "cell_type": "code",
   "execution_count": 20,
   "id": "f9235e4f-94b9-4fbe-a095-045e6a091684",
   "metadata": {},
   "outputs": [
    {
     "data": {
      "text/plain": [
       "<tf.Tensor: shape=(2, 128, 768), dtype=float32, numpy=\n",
       "array([[[ 0.07292046,  0.08567803,  0.14476834, ..., -0.09677116,\n",
       "          0.08722133,  0.07711101],\n",
       "        [ 0.17839415, -0.1900607 ,  0.50349444, ..., -0.05869861,\n",
       "          0.327171  , -0.1557856 ],\n",
       "        [ 0.18701461, -0.4338877 , -0.48875138, ..., -0.15502766,\n",
       "          0.00145099, -0.24470963],\n",
       "        ...,\n",
       "        [ 0.12083066,  0.12884238,  0.46453527, ...,  0.07375523,\n",
       "          0.17441952,  0.16522099],\n",
       "        [ 0.07967862, -0.01190662,  0.502254  , ...,  0.13777755,\n",
       "          0.210022  ,  0.00624555],\n",
       "        [-0.07212693, -0.28303438,  0.59033406, ...,  0.47551903,\n",
       "          0.16668476, -0.08920355]],\n",
       "\n",
       "       [[ 0.040605  ,  0.3267148 , -0.06604569, ..., -0.11767734,\n",
       "          0.20420271,  0.60382676],\n",
       "        [ 0.42078888,  0.38885817, -0.19671658, ..., -0.25060484,\n",
       "          0.2919652 ,  0.34592423],\n",
       "        [ 1.049667  ,  1.085755  ,  0.4954929 , ...,  0.31622744,\n",
       "          0.2740115 ,  0.26547587],\n",
       "        ...,\n",
       "        [ 0.25059482,  0.14957309,  0.43479824, ...,  0.2171637 ,\n",
       "         -0.18325555,  0.2631087 ],\n",
       "        [ 0.13218665,  0.16939913,  0.36954266, ...,  0.10122061,\n",
       "         -0.18612482,  0.23879454],\n",
       "        [ 0.103441  ,  0.12085953,  0.37799227, ...,  0.14138353,\n",
       "         -0.22387356,  0.23316574]]], dtype=float32)>"
      ]
     },
     "execution_count": 20,
     "metadata": {},
     "output_type": "execute_result"
    }
   ],
   "source": [
    "bert_result['sequence_output']\n",
    "#shope = 2 (nice movie indeed,i love python), 128 = paddig size 2, 768 = vector size.#"
   ]
  },
  {
   "cell_type": "code",
   "execution_count": null,
   "id": "25efd868-dccc-40f8-8c9c-2cf10f57b6f8",
   "metadata": {},
   "outputs": [],
   "source": []
  }
 ],
 "metadata": {
  "kernelspec": {
   "display_name": "Python 3 (ipykernel)",
   "language": "python",
   "name": "python3"
  },
  "language_info": {
   "codemirror_mode": {
    "name": "ipython",
    "version": 3
   },
   "file_extension": ".py",
   "mimetype": "text/x-python",
   "name": "python",
   "nbconvert_exporter": "python",
   "pygments_lexer": "ipython3",
   "version": "3.12.4"
  }
 },
 "nbformat": 4,
 "nbformat_minor": 5
}
